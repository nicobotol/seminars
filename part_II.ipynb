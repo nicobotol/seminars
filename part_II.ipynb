{
 "cells": [
  {
   "cell_type": "markdown",
   "id": "48cd2de4",
   "metadata": {},
   "source": [
    "# Python \"from zero to hero\" - Basics of data analysis\n",
    "\n",
    "July 5th, 2022\n",
    "\n",
    "The content of the following notebook is almost entirely based on the course [https://it.softpython.org/](https://it.softpython.org/), which are made available under the license CC-BY 4.0. The above-mentioned website was realized with funds provided by the departments of Information Science and Engineering, Mathematics, and Sociology of the University of Trento, and it was written by David Leoni, Marco Caresia, Alessio Zamboni, Luca Bosotti, and Massimiliano Luca."
   ]
  },
  {
   "cell_type": "markdown",
   "id": "03cf8b4e",
   "metadata": {},
   "source": [
    "## Part II.1 - Packages\n",
    "\n",
    "We used only built-in functions so far. However, a useful feature of Python is the ease of use of third party libraries, which allow us relying on a bunch of ready to use code for the most diverse purposes.\n",
    "\n",
    "Third party libraries of code are not available with the basic Python installation: You need to download and install them. Don't worry, it is easier than what you think, at least at the beginning...\n",
    "\n",
    "Python packages are made available on repositories on the Internet, from which they can be downloaded and used.\n",
    "The most common repositories are [PyPI](https://pypi.org/), which is the official Python repository, and [Conda](https://docs.conda.io/en/latest/) if you are working within the Anaconda environment.\n",
    "\n",
    "Most of the Python packages you will ever need are available on PyPI and can be accessed using `pip` (or `pip3` in Linux systems). Usually `pip` is already available with the basic Python installation; otherwise give a look at the following [page](https://pip.pypa.io/en/stable/cli/pip_install/).\n",
    "\n",
    "### Basic `pip` usage\n",
    "\n",
    "The command to install a package is usually:\n",
    "\n",
    "    pip install <package_name>\n",
    "\n",
    "Sometimes, more complex options must be specified. It is a good practice to look at the instructions on the official package documentation to see how to install it.\n",
    "\n",
    "For install to install Numpy, a common data handling library, it is enough to use the following command:\n",
    "\n",
    "    pip install numpy\n",
    "\n",
    "To find more specific installation options, read the official [page](https://numpy.org/install/).\n",
    "\n",
    "<div class=\"alert alert-warning\">\n",
    "\n",
    "**ATTENTION**\n",
    "\n",
    "A package is installed only once by using the command line. Then, it can be imported and used in any Python script without being installed each time.\n",
    "</div>\n",
    "\n",
    "<div class=\"alert alert-warning\">\n",
    "\n",
    "**ATTENTION**\n",
    "\n",
    "Some packages are already available with the basic Python installation, e.g., `os`, `sys`, `itertools`, and `math`.\n",
    "</div>"
   ]
  },
  {
   "cell_type": "markdown",
   "id": "9dde2c6b",
   "metadata": {},
   "source": [
    "### Import a package\n",
    "\n",
    "Packages are imported in the Python namespace only when they are required. This can be done using the following command:"
   ]
  },
  {
   "cell_type": "code",
   "execution_count": 1,
   "id": "a77338be",
   "metadata": {},
   "outputs": [
    {
     "data": {
      "text/plain": [
       "'1.21.1'"
      ]
     },
     "execution_count": 1,
     "metadata": {},
     "output_type": "execute_result"
    }
   ],
   "source": [
    "# to import pandas\n",
    "import numpy\n",
    "# ... easy!\n",
    "\n",
    "numpy.__version__"
   ]
  },
  {
   "cell_type": "markdown",
   "id": "b1251537",
   "metadata": {},
   "source": [
    "Alternatively, one can label a package with a custom name and to use such a name to refer to the package:"
   ]
  },
  {
   "cell_type": "code",
   "execution_count": 2,
   "id": "f558a7d9",
   "metadata": {},
   "outputs": [
    {
     "data": {
      "text/plain": [
       "'1.21.1'"
      ]
     },
     "execution_count": 2,
     "metadata": {},
     "output_type": "execute_result"
    }
   ],
   "source": [
    "import numpy as np\n",
    "np.__version__"
   ]
  },
  {
   "cell_type": "markdown",
   "id": "0a0b9d4e",
   "metadata": {},
   "source": [
    "When you want to use `numpy` in you code, you need to import `numpy` in your working environment (Python interpreter) to use the code of the library.\n",
    "\n",
    "    # The word `as` allows to rename the pandas package\n",
    "    import numpy as np"
   ]
  },
  {
   "cell_type": "markdown",
   "id": "c4a0ee05",
   "metadata": {},
   "source": [
    "## Part II.2 - The `numpy` library\n",
    "\n",
    "There are two ways to represent matrices in Python:\n",
    "as a lists of lists, or with the external library `numpy`.\n",
    "A very popular choice is `numpy`, let's see why and what are the main differences with lists of lists.\n",
    "\n",
    "Lists of lists\n",
    "- are native in Python\n",
    "- are not efficient\n",
    "- are everywhere in Python, therefore it is very likely that you will meet them once\n",
    "- provide an idea of how to represent nested data in Python\n",
    "- can be useful for understanding pointers and copies\n",
    "\n",
    "Numpy\n",
    "- is not natively available in Python\n",
    "- is efficient\n",
    "- is used in several scientific libraries\n",
    "- the syntax to access the elements of a matrix is slightly different from lists of lists\n",
    "- very rarely, it could rise compatibility issues with other packages, or with old Python versions\n",
    "\n",
    "In this part of the course we will see the basics of the `numpy` library.\n",
    "The way we will use `numpy` is far from good practices that allow to exploit `numpy` speed of calculation, i.e., despite nested `for` cycles are inefficient, we will use them anyway.\n",
    "However, to fully exploit `numpy` for its speed and efficiency, it is required to use operations on vectors and matrices, but this is out of the scope of this seminar."
   ]
  },
  {
   "cell_type": "markdown",
   "id": "701d428d",
   "metadata": {},
   "source": [
    "### Create a matrix\n",
    "\n",
    "To declare an empty matrix, i.e., a matrix containing only elements that are zero, the function `zeros` can be used."
   ]
  },
  {
   "cell_type": "code",
   "execution_count": 4,
   "id": "74f98a9f",
   "metadata": {},
   "outputs": [
    {
     "data": {
      "text/plain": [
       "array([[0., 0., 0., 0.],\n",
       "       [0., 0., 0., 0.],\n",
       "       [0., 0., 0., 0.]])"
      ]
     },
     "execution_count": 4,
     "metadata": {},
     "output_type": "execute_result"
    }
   ],
   "source": [
    "mat = np.zeros((3,4))\n",
    "mat"
   ]
  },
  {
   "cell_type": "markdown",
   "id": "50f2990a",
   "metadata": {},
   "source": [
    "The only argument provided here is a tuple containing the dimension of the matrix. It is possible to create $N$-dimensional arrays by adding new parameters to the tuple.\n",
    "\n",
    "The type of object produced by `zeros` is an `ndarray`, which is the basic data type in `numpy`."
   ]
  },
  {
   "cell_type": "code",
   "execution_count": 5,
   "id": "a84a1719",
   "metadata": {},
   "outputs": [
    {
     "data": {
      "text/plain": [
       "numpy.ndarray"
      ]
     },
     "execution_count": 5,
     "metadata": {},
     "output_type": "execute_result"
    }
   ],
   "source": [
    "type(mat)"
   ]
  },
  {
   "cell_type": "markdown",
   "id": "4cd233e0",
   "metadata": {},
   "source": [
    "Within an `array`, the content look like that of a list of lists.\n",
    "However, the internal representation of an `array` is a linear sequence of elements that allows Python accessing the numbers faster than it does with lists of lists.\n",
    "\n",
    "An `nparray` can be created starting from a list of lists"
   ]
  },
  {
   "cell_type": "code",
   "execution_count": 6,
   "id": "66c358b2",
   "metadata": {},
   "outputs": [
    {
     "data": {
      "text/plain": [
       "array([[1, 2, 3, 4],\n",
       "       [5, 6, 7, 8]])"
      ]
     },
     "execution_count": 6,
     "metadata": {},
     "output_type": "execute_result"
    }
   ],
   "source": [
    "arr = [\n",
    "    [1, 2, 3, 4],\n",
    "    [5, 6, 7, 8]\n",
    "]\n",
    "\n",
    "mat = np.array(arr)\n",
    "mat"
   ]
  },
  {
   "cell_type": "markdown",
   "id": "c7ec3f0a",
   "metadata": {},
   "source": [
    "#### Create a matrix full of 1"
   ]
  },
  {
   "cell_type": "code",
   "execution_count": 7,
   "id": "e154592d",
   "metadata": {},
   "outputs": [
    {
     "data": {
      "text/plain": [
       "array([[1., 1., 1., 1.],\n",
       "       [1., 1., 1., 1.]])"
      ]
     },
     "execution_count": 7,
     "metadata": {},
     "output_type": "execute_result"
    }
   ],
   "source": [
    "np.ones((2, 4))"
   ]
  },
  {
   "cell_type": "markdown",
   "id": "ce8082cb",
   "metadata": {},
   "source": [
    "#### Create a matrix full of a number $k$"
   ]
  },
  {
   "cell_type": "code",
   "execution_count": 8,
   "id": "e1e10176",
   "metadata": {},
   "outputs": [
    {
     "data": {
      "text/plain": [
       "array([[9, 9, 9, 9],\n",
       "       [9, 9, 9, 9],\n",
       "       [9, 9, 9, 9]])"
      ]
     },
     "execution_count": 8,
     "metadata": {},
     "output_type": "execute_result"
    }
   ],
   "source": [
    "        #Dimension # number\n",
    "np.full((3, 4),    9)"
   ]
  },
  {
   "cell_type": "markdown",
   "id": "5314d60a",
   "metadata": {},
   "source": [
    "#### Shape of a matrix\n",
    "\n",
    "The shape of a matrix is stored in the `shape` attribute of the `ndarray` object.\n",
    "The attribute `shape` is a tuple."
   ]
  },
  {
   "cell_type": "code",
   "execution_count": 9,
   "id": "0aa88374",
   "metadata": {},
   "outputs": [
    {
     "name": "stdout",
     "output_type": "stream",
     "text": [
      "[[1. 1. 1.]]\n",
      "rows 1 columns 3\n"
     ]
    }
   ],
   "source": [
    "mat = np.ones((1,3))\n",
    "print(mat)\n",
    "rows, columns = mat.shape\n",
    "\n",
    "print('rows', rows, 'columns', columns)"
   ]
  },
  {
   "cell_type": "markdown",
   "id": "15a60399",
   "metadata": {},
   "source": [
    "### Reading and writing\n",
    "\n",
    "To access an element of an array, `numpy` allows to use the notation with `[``]`, within which the indexes of the element are separated by a comma."
   ]
  },
  {
   "cell_type": "code",
   "execution_count": 10,
   "id": "c5613210",
   "metadata": {},
   "outputs": [
    {
     "data": {
      "text/plain": [
       "8"
      ]
     },
     "execution_count": 10,
     "metadata": {},
     "output_type": "execute_result"
    }
   ],
   "source": [
    "arr = [\n",
    "    [1, 2, 3, 4],\n",
    "    [5, 6, 7, 8]\n",
    "]\n",
    "mat = np.array(arr)\n",
    "\n",
    "mat[1,3]"
   ]
  },
  {
   "cell_type": "code",
   "execution_count": 11,
   "id": "1ef87fb0",
   "metadata": {},
   "outputs": [
    {
     "data": {
      "text/plain": [
       "array([[1, 2, 9, 4],\n",
       "       [5, 6, 7, 8]])"
      ]
     },
     "execution_count": 11,
     "metadata": {},
     "output_type": "execute_result"
    }
   ],
   "source": [
    "mat[0,2] = 9\n",
    "mat"
   ]
  },
  {
   "cell_type": "code",
   "execution_count": 12,
   "id": "4d427328",
   "metadata": {},
   "outputs": [
    {
     "ename": "ValueError",
     "evalue": "invalid literal for int() with base 10: 'c'",
     "output_type": "error",
     "traceback": [
      "\u001b[1;31m---------------------------------------------------------------------------\u001b[0m",
      "\u001b[1;31mValueError\u001b[0m                                Traceback (most recent call last)",
      "\u001b[1;32m~\\AppData\\Local\\Temp/ipykernel_16176/3318513095.py\u001b[0m in \u001b[0;36m<module>\u001b[1;34m\u001b[0m\n\u001b[1;32m----> 1\u001b[1;33m \u001b[0mmat\u001b[0m\u001b[1;33m[\u001b[0m\u001b[1;36m0\u001b[0m\u001b[1;33m,\u001b[0m\u001b[1;36m0\u001b[0m\u001b[1;33m]\u001b[0m \u001b[1;33m=\u001b[0m \u001b[1;34m\"c\"\u001b[0m\u001b[1;33m\u001b[0m\u001b[1;33m\u001b[0m\u001b[0m\n\u001b[0m",
      "\u001b[1;31mValueError\u001b[0m: invalid literal for int() with base 10: 'c'"
     ]
    }
   ],
   "source": [
    "mat[0,0] = \"c\""
   ]
  },
  {
   "cell_type": "code",
   "execution_count": 13,
   "id": "e0742ba7",
   "metadata": {},
   "outputs": [
    {
     "ename": "IndexError",
     "evalue": "only integers, slices (`:`), ellipsis (`...`), numpy.newaxis (`None`) and integer or boolean arrays are valid indices",
     "output_type": "error",
     "traceback": [
      "\u001b[1;31m---------------------------------------------------------------------------\u001b[0m",
      "\u001b[1;31mIndexError\u001b[0m                                Traceback (most recent call last)",
      "\u001b[1;32m~\\AppData\\Local\\Temp/ipykernel_16176/2108921535.py\u001b[0m in \u001b[0;36m<module>\u001b[1;34m\u001b[0m\n\u001b[1;32m----> 1\u001b[1;33m \u001b[0mmat\u001b[0m\u001b[1;33m[\u001b[0m\u001b[1;36m1\u001b[0m\u001b[1;33m,\u001b[0m\u001b[1;36m1.0\u001b[0m\u001b[1;33m]\u001b[0m\u001b[1;33m\u001b[0m\u001b[1;33m\u001b[0m\u001b[0m\n\u001b[0m",
      "\u001b[1;31mIndexError\u001b[0m: only integers, slices (`:`), ellipsis (`...`), numpy.newaxis (`None`) and integer or boolean arrays are valid indices"
     ]
    }
   ],
   "source": [
    "mat[1,1.0]"
   ]
  },
  {
   "cell_type": "markdown",
   "id": "84635030",
   "metadata": {},
   "source": [
    "### Slicing\n",
    "\n",
    "Slicing is one of the most useful feature of `numpy`, which allows the access to 'slices' of arrays.\n",
    "To access a slice of an array, we can use ranges, separated by commas, within the same brackets."
   ]
  },
  {
   "cell_type": "code",
   "execution_count": 14,
   "id": "c5656671",
   "metadata": {},
   "outputs": [
    {
     "data": {
      "text/plain": [
       "array([[8, 1],\n",
       "       [3, 2],\n",
       "       [7, 9],\n",
       "       [3, 4]])"
      ]
     },
     "execution_count": 14,
     "metadata": {},
     "output_type": "execute_result"
    }
   ],
   "source": [
    "mat = np.array([[5, 8, 1],\n",
    "                [4, 3, 2],\n",
    "                [6, 7, 9],\n",
    "                [9, 3, 4],\n",
    "                [8, 2, 7]])\n",
    "\n",
    "mat[0:4, 1:3]"
   ]
  },
  {
   "cell_type": "code",
   "execution_count": 15,
   "id": "ea1d4f5b",
   "metadata": {},
   "outputs": [
    {
     "data": {
      "text/plain": [
       "array([[5, 8, 1]])"
      ]
     },
     "execution_count": 15,
     "metadata": {},
     "output_type": "execute_result"
    }
   ],
   "source": [
    "mat[0:1,0:3]"
   ]
  },
  {
   "cell_type": "code",
   "execution_count": 16,
   "id": "116a27e5",
   "metadata": {},
   "outputs": [
    {
     "data": {
      "text/plain": [
       "array([[5, 8, 1]])"
      ]
     },
     "execution_count": 16,
     "metadata": {},
     "output_type": "execute_result"
    }
   ],
   "source": [
    "mat[0:1,:]"
   ]
  },
  {
   "cell_type": "code",
   "execution_count": 17,
   "id": "75132f5d",
   "metadata": {},
   "outputs": [
    {
     "data": {
      "text/plain": [
       "array([[5],\n",
       "       [4],\n",
       "       [6],\n",
       "       [9],\n",
       "       [8]])"
      ]
     },
     "execution_count": 17,
     "metadata": {},
     "output_type": "execute_result"
    }
   ],
   "source": [
    "mat[0:5, 0:1]"
   ]
  },
  {
   "cell_type": "code",
   "execution_count": 18,
   "id": "657d8091",
   "metadata": {},
   "outputs": [
    {
     "data": {
      "text/plain": [
       "array([[5],\n",
       "       [4],\n",
       "       [6],\n",
       "       [9],\n",
       "       [8]])"
      ]
     },
     "execution_count": 18,
     "metadata": {},
     "output_type": "execute_result"
    }
   ],
   "source": [
    "mat[:, 0:1]"
   ]
  },
  {
   "cell_type": "markdown",
   "id": "00ba23c1",
   "metadata": {},
   "source": [
    "It is also possible to specify a step as the third parameter of a range after an additional `:`."
   ]
  },
  {
   "cell_type": "code",
   "execution_count": 19,
   "id": "c557efd5",
   "metadata": {},
   "outputs": [
    {
     "data": {
      "text/plain": [
       "array([[5, 8, 1],\n",
       "       [6, 7, 9],\n",
       "       [8, 2, 7]])"
      ]
     },
     "execution_count": 19,
     "metadata": {},
     "output_type": "execute_result"
    }
   ],
   "source": [
    "mat[0:5:2, :]"
   ]
  },
  {
   "cell_type": "markdown",
   "id": "f82bbe53",
   "metadata": {},
   "source": [
    "<div class=\"alert alert-warning\">\n",
    "\n",
    "**ATTENTION: when we modify a slice of an array, the changes persist in the original matrix**\n",
    "</div>\n",
    "\n",
    "Conversely to lists of lists, when slicing is used `numpy` produces a *view* on the array.\n",
    "It means that changing the view, we change also the original matrix.\n",
    "Assigning a slice to a new variable does not create a new `array`."
   ]
  },
  {
   "cell_type": "code",
   "execution_count": 20,
   "id": "f55dbbc1",
   "metadata": {},
   "outputs": [
    {
     "data": {
      "text/plain": [
       "array([[8, 1],\n",
       "       [3, 2],\n",
       "       [7, 9],\n",
       "       [3, 4]])"
      ]
     },
     "execution_count": 20,
     "metadata": {},
     "output_type": "execute_result"
    }
   ],
   "source": [
    "mat = np.array([[5, 8, 1],\n",
    "                [4, 3, 2],\n",
    "                [6, 7, 9],\n",
    "                [9, 3, 4],\n",
    "                [8, 2, 7]])\n",
    "\n",
    "sotto_mat = mat[0:4, 1:3]\n",
    "sotto_mat"
   ]
  },
  {
   "cell_type": "code",
   "execution_count": 21,
   "id": "e6bfe978",
   "metadata": {},
   "outputs": [
    {
     "data": {
      "text/plain": [
       "array([[  5, 999,   1],\n",
       "       [  4,   3,   2],\n",
       "       [  6,   7,   9],\n",
       "       [  9,   3,   4],\n",
       "       [  8,   2,   7]])"
      ]
     },
     "execution_count": 21,
     "metadata": {},
     "output_type": "execute_result"
    }
   ],
   "source": [
    "sotto_mat[0,0] = 999\n",
    "mat"
   ]
  },
  {
   "cell_type": "markdown",
   "id": "0fc3766c",
   "metadata": {},
   "source": [
    "#### Writing a constant in a slice\n",
    "\n",
    "We can write a constant in all the cells of a region using slicing and setting them equal to a constant."
   ]
  },
  {
   "cell_type": "code",
   "execution_count": 22,
   "id": "acae1537",
   "metadata": {},
   "outputs": [
    {
     "data": {
      "text/plain": [
       "array([[5, 7, 7],\n",
       "       [4, 7, 7],\n",
       "       [6, 7, 7],\n",
       "       [9, 7, 7],\n",
       "       [8, 2, 5]])"
      ]
     },
     "execution_count": 22,
     "metadata": {},
     "output_type": "execute_result"
    }
   ],
   "source": [
    "mat = np.array( [ [5, 8, 1],\n",
    "                  [4, 3, 2],\n",
    "                  [6, 7, 9],\n",
    "                  [9, 3, 4],\n",
    "                  [8, 2, 5]])\n",
    "\n",
    "mat[0:4, 1:3]  = 7\n",
    "\n",
    "mat"
   ]
  },
  {
   "cell_type": "markdown",
   "id": "37b486b4",
   "metadata": {},
   "source": [
    "#### Writing a matrix in a slice\n",
    "\n",
    "We can write on a region of an array using slicing and assigning the region equal to a matrix from which we want to read the cells."
   ]
  },
  {
   "cell_type": "code",
   "execution_count": 23,
   "id": "c03a8fd6",
   "metadata": {},
   "outputs": [
    {
     "data": {
      "text/plain": [
       "array([[ 5, 10, 50],\n",
       "       [ 4, 11, 51],\n",
       "       [ 6, 12, 52],\n",
       "       [ 9, 13, 53],\n",
       "       [ 8,  2,  5]])"
      ]
     },
     "execution_count": 23,
     "metadata": {},
     "output_type": "execute_result"
    }
   ],
   "source": [
    "mat = np.array( [ [5, 8, 1],\n",
    "                  [4, 3, 2],\n",
    "                  [6, 7, 9],\n",
    "                  [9, 3, 4],\n",
    "                  [8, 2, 5]])\n",
    "\n",
    "mat[0:4, 1:3]  = np.array([\n",
    "                            [10,50],\n",
    "                            [11,51],\n",
    "                            [12,52],\n",
    "                            [13,53],\n",
    "                        ])\n",
    "\n",
    "mat"
   ]
  },
  {
   "cell_type": "markdown",
   "id": "2d355457",
   "metadata": {},
   "source": [
    "### Copy of arrays\n",
    "\n",
    "To create a copy of an array, it is possible to use the method `copy` on the array that we want to copy and to assign the result to a variable."
   ]
  },
  {
   "cell_type": "code",
   "execution_count": 24,
   "id": "a745db53",
   "metadata": {},
   "outputs": [
    {
     "data": {
      "text/plain": [
       "array([1, 2, 3])"
      ]
     },
     "execution_count": 24,
     "metadata": {},
     "output_type": "execute_result"
    }
   ],
   "source": [
    "va = np.array([1,2,3])\n",
    "vc = va.copy()\n",
    "vc"
   ]
  },
  {
   "cell_type": "code",
   "execution_count": 25,
   "id": "9af349a4",
   "metadata": {},
   "outputs": [
    {
     "data": {
      "text/plain": [
       "array([100,   2,   3])"
      ]
     },
     "execution_count": 25,
     "metadata": {},
     "output_type": "execute_result"
    }
   ],
   "source": [
    "vc[0] = 100\n",
    "vc"
   ]
  },
  {
   "cell_type": "code",
   "execution_count": 26,
   "id": "b1ce3e00",
   "metadata": {},
   "outputs": [
    {
     "data": {
      "text/plain": [
       "array([1, 2, 3])"
      ]
     },
     "execution_count": 26,
     "metadata": {},
     "output_type": "execute_result"
    }
   ],
   "source": [
    "va"
   ]
  },
  {
   "cell_type": "markdown",
   "id": "db89db27",
   "metadata": {},
   "source": [
    "### Calculations\n",
    "\n",
    "A point of strength of `numpy` is the possibility to use operations on arrays that resembles those that are used in algebra.\n",
    "\n",
    "Let's see some of these."
   ]
  },
  {
   "cell_type": "code",
   "execution_count": 27,
   "id": "8d7eaa70",
   "metadata": {},
   "outputs": [
    {
     "data": {
      "text/plain": [
       "array([11, 17,  7])"
      ]
     },
     "execution_count": 27,
     "metadata": {},
     "output_type": "execute_result"
    }
   ],
   "source": [
    "va = np.array([5,9,7])\n",
    "vb = np.array([6,8,0])\n",
    "vc = va + vb\n",
    "vc"
   ]
  },
  {
   "cell_type": "markdown",
   "id": "a1fa10ef",
   "metadata": {},
   "source": [
    "Notice that the sum produced a new array that was assigned to the variable `vc`.\n",
    "\n",
    "#### Scalar multiplication"
   ]
  },
  {
   "cell_type": "code",
   "execution_count": 28,
   "id": "27db7c34",
   "metadata": {},
   "outputs": [
    {
     "data": {
      "text/plain": [
       "array([[15, 27, 21],\n",
       "       [18, 24,  0]])"
      ]
     },
     "execution_count": 28,
     "metadata": {},
     "output_type": "execute_result"
    }
   ],
   "source": [
    "m = np.array([[5, 9, 7],\n",
    "              [6, 8, 0]])\n",
    "\n",
    "3 * m"
   ]
  },
  {
   "cell_type": "markdown",
   "id": "5be2542a",
   "metadata": {},
   "source": [
    "#### Scalar summation"
   ]
  },
  {
   "cell_type": "code",
   "execution_count": 29,
   "id": "d48adba5",
   "metadata": {},
   "outputs": [
    {
     "data": {
      "text/plain": [
       "array([[ 8, 12, 10],\n",
       "       [ 9, 11,  3]])"
      ]
     },
     "execution_count": 29,
     "metadata": {},
     "output_type": "execute_result"
    }
   ],
   "source": [
    "3 + m"
   ]
  },
  {
   "cell_type": "markdown",
   "id": "84f63a90",
   "metadata": {},
   "source": [
    "#### Multiplication (element-wise)\n",
    "\n",
    "The multiplication of two array using the operator `*` is performed element-wise.\n",
    "Therefore, the arrays that are multiplied must have the same dimension."
   ]
  },
  {
   "cell_type": "code",
   "execution_count": 30,
   "id": "2f988ff7",
   "metadata": {},
   "outputs": [
    {
     "data": {
      "text/plain": [
       "array([[  1,   0,   3],\n",
       "       [ 40, 100, 180]])"
      ]
     },
     "execution_count": 30,
     "metadata": {},
     "output_type": "execute_result"
    }
   ],
   "source": [
    "ma = np.array([[1,  2,  3],\n",
    "               [10, 20, 30]])\n",
    "\n",
    "mb = np.array([[1,  0,  1],\n",
    "               [4,  5,  6]])\n",
    "\n",
    "ma * mb"
   ]
  },
  {
   "cell_type": "markdown",
   "id": "3d84f0f3",
   "metadata": {},
   "source": [
    "If we want to perform a matrix multiplication (rows-per-columns), i.e., the one we learned during the algebra course, we must use the operator `@` and we must pay attention that the dimensions of the matrices are compatible."
   ]
  },
  {
   "cell_type": "code",
   "execution_count": 31,
   "id": "e83480f1",
   "metadata": {},
   "outputs": [
    {
     "data": {
      "text/plain": [
       "array([[  4,  32],\n",
       "       [ 40, 320]])"
      ]
     },
     "execution_count": 31,
     "metadata": {},
     "output_type": "execute_result"
    }
   ],
   "source": [
    "mc = np.array([[1,  2,  3],\n",
    "               [10, 20, 30]])\n",
    "md = np.array([[1, 4],\n",
    "               [0, 5],\n",
    "               [1, 6]])\n",
    "\n",
    "mc @ md"
   ]
  },
  {
   "cell_type": "markdown",
   "id": "46e3cedc",
   "metadata": {},
   "source": [
    "#### Scalar division"
   ]
  },
  {
   "cell_type": "code",
   "execution_count": 32,
   "id": "28104e04",
   "metadata": {},
   "outputs": [
    {
     "data": {
      "text/plain": [
       "array([[0.25, 0.5 , 0.  ],\n",
       "       [2.5 , 0.  , 7.5 ]])"
      ]
     },
     "execution_count": 32,
     "metadata": {},
     "output_type": "execute_result"
    }
   ],
   "source": [
    "ma = np.array([[1,  2,  0.0],\n",
    "               [10, 0.0, 30]])\n",
    "\n",
    "ma / 4"
   ]
  },
  {
   "cell_type": "markdown",
   "id": "6016ef8b",
   "metadata": {},
   "source": [
    "**ATTENTION**: when an array is divided by `0.0` the program **does not** return an error, it will return a warning and the execution of the program will continue!\n",
    "It will continue by inserting `NaN` and `Inf` objects in the array.\n",
    "These identify a non-number (the result of a division by zero) and the infinite."
   ]
  },
  {
   "cell_type": "code",
   "execution_count": 33,
   "id": "56af83b3",
   "metadata": {},
   "outputs": [
    {
     "name": "stderr",
     "output_type": "stream",
     "text": [
      "C:\\Users\\Michele\\AppData\\Local\\Temp/ipykernel_16176/562286381.py:1: RuntimeWarning: divide by zero encountered in true_divide\n",
      "  ma / 0.0\n",
      "C:\\Users\\Michele\\AppData\\Local\\Temp/ipykernel_16176/562286381.py:1: RuntimeWarning: invalid value encountered in true_divide\n",
      "  ma / 0.0\n"
     ]
    },
    {
     "data": {
      "text/plain": [
       "array([[inf, inf, nan],\n",
       "       [inf, nan, inf]])"
      ]
     },
     "execution_count": 33,
     "metadata": {},
     "output_type": "execute_result"
    }
   ],
   "source": [
    "ma / 0.0"
   ]
  },
  {
   "cell_type": "markdown",
   "id": "cf1983d8",
   "metadata": {},
   "source": [
    "#### Aggregation functions\n",
    "\n",
    "Numpy provides several functions to perform operations on arrays. A few examples are presented in the following."
   ]
  },
  {
   "cell_type": "code",
   "execution_count": 34,
   "id": "f88ccdeb",
   "metadata": {},
   "outputs": [
    {
     "data": {
      "text/plain": [
       "26"
      ]
     },
     "execution_count": 34,
     "metadata": {},
     "output_type": "execute_result"
    }
   ],
   "source": [
    "m = np.array([[5, 4, 6],\n",
    "              [3, 7, 1]])\n",
    "np.sum(m)"
   ]
  },
  {
   "cell_type": "code",
   "execution_count": 35,
   "id": "a81e6789",
   "metadata": {},
   "outputs": [
    {
     "data": {
      "text/plain": [
       "7"
      ]
     },
     "execution_count": 35,
     "metadata": {},
     "output_type": "execute_result"
    }
   ],
   "source": [
    "np.max(m)"
   ]
  },
  {
   "cell_type": "code",
   "execution_count": 36,
   "id": "d79238ba",
   "metadata": {},
   "outputs": [
    {
     "data": {
      "text/plain": [
       "1"
      ]
     },
     "execution_count": 36,
     "metadata": {},
     "output_type": "execute_result"
    }
   ],
   "source": [
    "np.min(m)"
   ]
  },
  {
   "cell_type": "markdown",
   "id": "1308d84b",
   "metadata": {},
   "source": [
    "Aggregation over rows of columns are also possible by adding the parameter `axis`. `axis=0` means aggregation over columns, whereas `axis=1` produces aggregation over rows."
   ]
  },
  {
   "cell_type": "code",
   "execution_count": 37,
   "id": "4a5d49ae",
   "metadata": {},
   "outputs": [
    {
     "data": {
      "text/plain": [
       "array([5, 7, 6])"
      ]
     },
     "execution_count": 37,
     "metadata": {},
     "output_type": "execute_result"
    }
   ],
   "source": [
    "np.max(m, axis=0)"
   ]
  },
  {
   "cell_type": "code",
   "execution_count": 38,
   "id": "0b22ec04",
   "metadata": {},
   "outputs": [
    {
     "data": {
      "text/plain": [
       "array([ 8, 11,  7])"
      ]
     },
     "execution_count": 38,
     "metadata": {},
     "output_type": "execute_result"
    }
   ],
   "source": [
    "np.sum(m, axis=0)"
   ]
  },
  {
   "cell_type": "code",
   "execution_count": 39,
   "id": "dec63379",
   "metadata": {},
   "outputs": [
    {
     "data": {
      "text/plain": [
       "array([6, 7])"
      ]
     },
     "execution_count": 39,
     "metadata": {},
     "output_type": "execute_result"
    }
   ],
   "source": [
    "np.max(m, axis=1)"
   ]
  },
  {
   "cell_type": "code",
   "execution_count": 40,
   "id": "1a4d3515",
   "metadata": {},
   "outputs": [
    {
     "data": {
      "text/plain": [
       "array([15, 11])"
      ]
     },
     "execution_count": 40,
     "metadata": {},
     "output_type": "execute_result"
    }
   ],
   "source": [
    "np.sum(m, axis=1)"
   ]
  },
  {
   "cell_type": "markdown",
   "id": "e1ad7304",
   "metadata": {},
   "source": [
    "### Filter an array\n",
    "\n",
    "One of Numpy most useful feature is filtering of the elements according to a criterion."
   ]
  },
  {
   "cell_type": "code",
   "execution_count": 41,
   "id": "d4835da5",
   "metadata": {},
   "outputs": [
    {
     "data": {
      "text/plain": [
       "array([[5, 2, 6],\n",
       "       [1, 4, 3]])"
      ]
     },
     "execution_count": 41,
     "metadata": {},
     "output_type": "execute_result"
    }
   ],
   "source": [
    "mat = np.array([[5, 2, 6],\n",
    "                [1, 4, 3]])\n",
    "mat"
   ]
  },
  {
   "cell_type": "markdown",
   "id": "0d045aaf",
   "metadata": {},
   "source": [
    "Assume that we want to obtain an array with all the number greater than `2` from `mat`.\n",
    "\n",
    "We can perform filtering by specifying the filtering condition between `[` `]` right after the array name, and within brackets we write the condition using again the variable name."
   ]
  },
  {
   "cell_type": "code",
   "execution_count": 42,
   "id": "183a718b",
   "metadata": {},
   "outputs": [
    {
     "data": {
      "text/plain": [
       "array([5, 6, 4, 3])"
      ]
     },
     "execution_count": 42,
     "metadata": {},
     "output_type": "execute_result"
    }
   ],
   "source": [
    "mat[ mat > 2 ]"
   ]
  },
  {
   "cell_type": "markdown",
   "id": "acefded5",
   "metadata": {},
   "source": [
    "The expression that we wrote within brackets produces a boolean array, which tells Numpy which elements to select.\n",
    "\n",
    "It is possible to use multiple criteria for the selection of elements by concatenating the operator `&`, which works as an *and*, and the operator `|`, which works as an *or*."
   ]
  },
  {
   "cell_type": "code",
   "execution_count": 43,
   "id": "95b57f47",
   "metadata": {},
   "outputs": [
    {
     "data": {
      "text/plain": [
       "array([5, 4])"
      ]
     },
     "execution_count": 43,
     "metadata": {},
     "output_type": "execute_result"
    }
   ],
   "source": [
    "mat = np.array([[5, 2, 6],\n",
    "                [1, 4, 3]])\n",
    "mat[(mat > 3) & (mat < 6)]"
   ]
  },
  {
   "cell_type": "code",
   "execution_count": 44,
   "id": "74171735",
   "metadata": {},
   "outputs": [
    {
     "data": {
      "text/plain": [
       "array([5, 6, 1])"
      ]
     },
     "execution_count": 44,
     "metadata": {},
     "output_type": "execute_result"
    }
   ],
   "source": [
    "mat = np.array([[5, 2, 6],\n",
    "                [1, 4, 3]])\n",
    "mat[(mat < 2) | (mat > 4)]"
   ]
  },
  {
   "cell_type": "code",
   "execution_count": 45,
   "id": "9ee1d812",
   "metadata": {},
   "outputs": [
    {
     "data": {
      "text/plain": [
       "array([5, 2, 6, 4, 3])"
      ]
     },
     "execution_count": 45,
     "metadata": {},
     "output_type": "execute_result"
    }
   ],
   "source": [
    "mat = np.array([[5, 2, 6],\n",
    "                [1, 4, 3]])\n",
    "mat[mat > 3 & (mat < 6)]"
   ]
  },
  {
   "cell_type": "code",
   "execution_count": 46,
   "id": "ea2f8cd2",
   "metadata": {},
   "outputs": [
    {
     "ename": "ValueError",
     "evalue": "The truth value of an array with more than one element is ambiguous. Use a.any() or a.all()",
     "output_type": "error",
     "traceback": [
      "\u001b[1;31m---------------------------------------------------------------------------\u001b[0m",
      "\u001b[1;31mValueError\u001b[0m                                Traceback (most recent call last)",
      "\u001b[1;32m~\\AppData\\Local\\Temp/ipykernel_16176/2056466602.py\u001b[0m in \u001b[0;36m<module>\u001b[1;34m\u001b[0m\n\u001b[0;32m      1\u001b[0m mat = np.array([[5, 2, 6],\n\u001b[0;32m      2\u001b[0m                 [1, 4, 3]])\n\u001b[1;32m----> 3\u001b[1;33m \u001b[0mmat\u001b[0m\u001b[1;33m[\u001b[0m\u001b[0mmat\u001b[0m \u001b[1;33m>\u001b[0m \u001b[1;36m3\u001b[0m \u001b[1;33m&\u001b[0m \u001b[0mmat\u001b[0m \u001b[1;33m<\u001b[0m \u001b[1;36m6\u001b[0m\u001b[1;33m]\u001b[0m\u001b[1;33m\u001b[0m\u001b[1;33m\u001b[0m\u001b[0m\n\u001b[0m",
      "\u001b[1;31mValueError\u001b[0m: The truth value of an array with more than one element is ambiguous. Use a.any() or a.all()"
     ]
    }
   ],
   "source": [
    "\n",
    "mat = np.array([[5, 2, 6],\n",
    "                [1, 4, 3]])\n",
    "mat[mat > 3 & mat < 6]"
   ]
  },
  {
   "cell_type": "code",
   "execution_count": 47,
   "id": "17714f30",
   "metadata": {},
   "outputs": [
    {
     "data": {
      "text/plain": [
       "array([[ True,  True,  True],\n",
       "       [False,  True,  True]])"
      ]
     },
     "execution_count": 47,
     "metadata": {},
     "output_type": "execute_result"
    }
   ],
   "source": [
    "mat > 3 & (mat < 6)"
   ]
  },
  {
   "cell_type": "code",
   "execution_count": 48,
   "id": "8281a5c8",
   "metadata": {},
   "outputs": [
    {
     "data": {
      "text/plain": [
       "array([[1, 1, 0],\n",
       "       [1, 1, 1]], dtype=int32)"
      ]
     },
     "execution_count": 48,
     "metadata": {},
     "output_type": "execute_result"
    }
   ],
   "source": [
    "3 & (mat < 6)"
   ]
  },
  {
   "cell_type": "markdown",
   "id": "50f931a7",
   "metadata": {},
   "source": [
    "**ATTENTION** In Numpy, the operators `and` and `or` do not work!"
   ]
  },
  {
   "cell_type": "markdown",
   "id": "bc366f8e",
   "metadata": {},
   "source": [
    "It might be useful to retrieve the indexes of the elements that satisfy our conditions.\n",
    "This is possible through the function `np.where`, to which we pass the expressions that encode our conditions."
   ]
  },
  {
   "cell_type": "code",
   "execution_count": 50,
   "id": "e8424c1d",
   "metadata": {},
   "outputs": [],
   "source": [
    "             #0  1  2  3  4  5\n",
    "v = np.array([30,60,20,70,40,80])\n",
    "\n",
    "idx = np.where((v < 40) | (v > 60))"
   ]
  },
  {
   "cell_type": "code",
   "execution_count": 51,
   "id": "0d230be0",
   "metadata": {},
   "outputs": [
    {
     "data": {
      "text/plain": [
       "array([30, 20, 70, 80])"
      ]
     },
     "execution_count": 51,
     "metadata": {},
     "output_type": "execute_result"
    }
   ],
   "source": [
    "v[idx]"
   ]
  },
  {
   "cell_type": "markdown",
   "id": "069102b1",
   "metadata": {},
   "source": [
    "`np.where` can do thighs that are way more complicated.\n",
    "For instance, we may want to substitute the elements that satisfy a condition with those in another matrix, and to substitute those elements that do not satisfy the condition with the values in another matrix."
   ]
  },
  {
   "cell_type": "code",
   "execution_count": 52,
   "id": "d4c37ca2",
   "metadata": {},
   "outputs": [
    {
     "data": {
      "text/plain": [
       "array([[  1,  -2,   3,  -4],\n",
       "       [  5,   6,  -7,   8],\n",
       "       [  9, -10, -11, -12]])"
      ]
     },
     "execution_count": 52,
     "metadata": {},
     "output_type": "execute_result"
    }
   ],
   "source": [
    "ma = np.array([\n",
    "    [ 1, 2, 3, 4],\n",
    "    [ 5, 6, 7, 8],\n",
    "    [ 9,10,11,12]\n",
    "])\n",
    "\n",
    "mb = np.array([\n",
    "    [ -1, -2, -3, -4],\n",
    "    [ -5, -6, -7, -8],\n",
    "    [ -9,-10,-11,-12]\n",
    "])\n",
    "\n",
    "\n",
    "mat = np.array([\n",
    "    [40,70,10,80],\n",
    "    [20,30,60,40],\n",
    "    [10,60,80,90]\n",
    "])\n",
    "\n",
    "np.where(mat < 50, ma, mb)"
   ]
  },
  {
   "cell_type": "markdown",
   "id": "a1c65a9e",
   "metadata": {},
   "source": [
    "### `arange` and `linspace` sequences\n",
    "\n",
    "Two useful Numpy utility functions are `arange` and `linspace`.\n",
    "`arange` can be considered an extension of the Python function `range`; moreover, `arange` allows decimal increments, which are not possible using `range`."
   ]
  },
  {
   "cell_type": "code",
   "execution_count": 53,
   "id": "6ec02c03",
   "metadata": {},
   "outputs": [
    {
     "data": {
      "text/plain": [
       "array([0. , 0.2, 0.4, 0.6, 0.8])"
      ]
     },
     "execution_count": 53,
     "metadata": {},
     "output_type": "execute_result"
    }
   ],
   "source": [
    "np.arange(0.0, 1.0, 0.2)"
   ]
  },
  {
   "cell_type": "markdown",
   "id": "aa59b6a4",
   "metadata": {},
   "source": [
    "Alternatively to `arange` it is possible to use `linspace`, which divides a range into `n` parts and returns the values that define these sub-spaces, included the left and right boundaries."
   ]
  },
  {
   "cell_type": "code",
   "execution_count": 52,
   "id": "41c54a6f",
   "metadata": {},
   "outputs": [
    {
     "data": {
      "text/plain": [
       "array([0. , 0.2, 0.4, 0.6, 0.8])"
      ]
     },
     "execution_count": 52,
     "metadata": {},
     "output_type": "execute_result"
    }
   ],
   "source": [
    "np.linspace(0, 0.8, 5)"
   ]
  },
  {
   "cell_type": "code",
   "execution_count": 53,
   "id": "d6ace290",
   "metadata": {},
   "outputs": [
    {
     "data": {
      "text/plain": [
       "array([0.        , 0.08888889, 0.17777778, 0.26666667, 0.35555556,\n",
       "       0.44444444, 0.53333333, 0.62222222, 0.71111111, 0.8       ])"
      ]
     },
     "execution_count": 53,
     "metadata": {},
     "output_type": "execute_result"
    }
   ],
   "source": [
    "np.linspace(0, 0.8, 10)"
   ]
  },
  {
   "cell_type": "markdown",
   "id": "8710eb8b",
   "metadata": {},
   "source": [
    "### `NaN` and `Inf`\n",
    "\n",
    "Float numbers can be numbers, *non-numbers*, and infinities.\n",
    "During calculations, some extreme conditions may happen, for instance, to divide a small number by a huge number.\n",
    "In such cases, it might be that we end with a `NaN` number, i.e., a special type of float number.\n",
    "Viceversa, one can obtain an `Inf` number, which identifies an infinite.\n",
    "Finding such numbers in our calculations may lead to unexpected results, and it is worth to know what to do in such cases.\n",
    "\n",
    "#### `NaN`\n",
    "\n",
    "`NaN` means *not a number*.\n",
    "In fact, `NaN`s are a special type of float, and they present the following property:\n",
    "\n",
    "<div class=\"alert alert-warning\">\n",
    "\n",
    "`NaN` is not equal to itself.\n",
    "</div>"
   ]
  },
  {
   "cell_type": "code",
   "execution_count": 54,
   "id": "5b5f3703",
   "metadata": {},
   "outputs": [
    {
     "data": {
      "text/plain": [
       "False"
      ]
     },
     "execution_count": 54,
     "metadata": {},
     "output_type": "execute_result"
    }
   ],
   "source": [
    "np.nan == np.nan"
   ]
  },
  {
   "cell_type": "markdown",
   "id": "b8dc3d09",
   "metadata": {},
   "source": [
    "The same is true if we use the `nan` object from the Python library `math`. In fact, to find a `nan` is so common that they were implemented also in Numpy; however, they are exactly the same of the module `math`."
   ]
  },
  {
   "cell_type": "code",
   "execution_count": 54,
   "id": "8a887a45",
   "metadata": {},
   "outputs": [
    {
     "data": {
      "text/plain": [
       "False"
      ]
     },
     "execution_count": 54,
     "metadata": {},
     "output_type": "execute_result"
    }
   ],
   "source": [
    "import math\n",
    "math.nan == math.nan"
   ]
  },
  {
   "cell_type": "markdown",
   "id": "2500ca91",
   "metadata": {},
   "source": [
    "#### Find `NaN` values\n",
    "\n",
    "To find `NaN` values is of fundamental importance, both when we do calculations and when we are analyzing data (e.g., when field of a table are empty)."
   ]
  },
  {
   "cell_type": "code",
   "execution_count": 55,
   "id": "db89accf",
   "metadata": {},
   "outputs": [
    {
     "data": {
      "text/plain": [
       "True"
      ]
     },
     "execution_count": 55,
     "metadata": {},
     "output_type": "execute_result"
    }
   ],
   "source": [
    "a = np.nan\n",
    "np.isnan(a)"
   ]
  },
  {
   "cell_type": "markdown",
   "id": "435cd978",
   "metadata": {},
   "source": [
    "#### Operations with `NaN`\n",
    "\n",
    "Operations with `NaN` are possible, but the results will be somethig *strange*. Let's see some examples."
   ]
  },
  {
   "cell_type": "code",
   "execution_count": 56,
   "id": "20acce2c",
   "metadata": {},
   "outputs": [
    {
     "data": {
      "text/plain": [
       "nan"
      ]
     },
     "execution_count": 56,
     "metadata": {},
     "output_type": "execute_result"
    }
   ],
   "source": [
    "5 * math.nan"
   ]
  },
  {
   "cell_type": "code",
   "execution_count": 57,
   "id": "ca0fa00b",
   "metadata": {},
   "outputs": [
    {
     "data": {
      "text/plain": [
       "nan"
      ]
     },
     "execution_count": 57,
     "metadata": {},
     "output_type": "execute_result"
    }
   ],
   "source": [
    "math.nan + math.nan"
   ]
  },
  {
   "cell_type": "code",
   "execution_count": 58,
   "id": "cd17eb80",
   "metadata": {},
   "outputs": [
    {
     "data": {
      "text/plain": [
       "nan"
      ]
     },
     "execution_count": 58,
     "metadata": {},
     "output_type": "execute_result"
    }
   ],
   "source": [
    "math.nan / math.nan"
   ]
  },
  {
   "cell_type": "markdown",
   "id": "0a4fc2c9",
   "metadata": {},
   "source": [
    "Let's see where we can find `NaN`s in practice.\n",
    "Consider the function `log`."
   ]
  },
  {
   "cell_type": "code",
   "execution_count": 61,
   "id": "270c9439",
   "metadata": {},
   "outputs": [
    {
     "name": "stderr",
     "output_type": "stream",
     "text": [
      "C:\\Users\\Michele\\AppData\\Local\\Temp/ipykernel_12440/153577755.py:1: RuntimeWarning: invalid value encountered in log\n",
      "  np.log(-1)\n"
     ]
    },
    {
     "data": {
      "text/plain": [
       "nan"
      ]
     },
     "execution_count": 61,
     "metadata": {},
     "output_type": "execute_result"
    }
   ],
   "source": [
    "np.log(-1)"
   ]
  },
  {
   "cell_type": "markdown",
   "id": "5bbacb7e",
   "metadata": {},
   "source": [
    "In this case, Numpy noticed us of the bad operation with a warning, but the program did not stop.\n",
    "In case we find a `NaN` along the way, Numpy execute the calculations anyway and is saves the results; however, the results of *bad* operations are saved as `NaN`."
   ]
  },
  {
   "cell_type": "code",
   "execution_count": 62,
   "id": "dffa5e7b",
   "metadata": {},
   "outputs": [
    {
     "name": "stderr",
     "output_type": "stream",
     "text": [
      "C:\\Users\\Michele\\AppData\\Local\\Temp/ipykernel_12440/901781747.py:1: RuntimeWarning: invalid value encountered in log\n",
      "  np.log(np.array([3,7,-1,9]))\n"
     ]
    },
    {
     "data": {
      "text/plain": [
       "array([1.09861229, 1.94591015,        nan, 2.19722458])"
      ]
     },
     "execution_count": 62,
     "metadata": {},
     "output_type": "execute_result"
    }
   ],
   "source": [
    "np.log(np.array([3,7,-1,9]))"
   ]
  },
  {
   "cell_type": "markdown",
   "id": "b9fe2973",
   "metadata": {},
   "source": [
    "#### The `Inf` type\n",
    "\n",
    "The probability to encounter an operation that produces a huge number is not that low.\n",
    "Therefore, the creators of the Numpy library designed a special float type for such an occurrence.\n",
    "Some important properties of `Inf` are:\n",
    "- The object `Inf` is not equal to `NaN`\n",
    "- The positive infinite is not equal to the negative infinite\n",
    "- The infinite is equivalent to the positive infinite\n",
    "- The infinite is equal to itself"
   ]
  },
  {
   "cell_type": "code",
   "execution_count": 59,
   "id": "d56b6446",
   "metadata": {},
   "outputs": [
    {
     "data": {
      "text/plain": [
       "True"
      ]
     },
     "execution_count": 59,
     "metadata": {},
     "output_type": "execute_result"
    }
   ],
   "source": [
    "np.inf == np.inf"
   ]
  },
  {
   "cell_type": "code",
   "execution_count": 60,
   "id": "0b1fa66c",
   "metadata": {},
   "outputs": [
    {
     "data": {
      "text/plain": [
       "True"
      ]
     },
     "execution_count": 60,
     "metadata": {},
     "output_type": "execute_result"
    }
   ],
   "source": [
    "math.inf == math.inf"
   ]
  },
  {
   "cell_type": "markdown",
   "id": "a9516f2a",
   "metadata": {},
   "source": [
    "Also in this case, instances of `Inf` can be identified using the function `isinf`."
   ]
  },
  {
   "cell_type": "markdown",
   "id": "86270469",
   "metadata": {},
   "source": [
    "### Exercises"
   ]
  },
  {
   "cell_type": "markdown",
   "id": "93aba2a6",
   "metadata": {},
   "source": [
    "1) Given a `n` x `m` matrix, return a new matrix with 1 column and `n` rows that contains the average of the values in the rows of the input matrix."
   ]
  },
  {
   "cell_type": "markdown",
   "id": "4076e14c",
   "metadata": {},
   "source": [
    "    3 2 1 4\n",
    "    6 2 3 5\n",
    "    4 3 6 2\n",
    "    4 6 5 4\n",
    "    7 2 9 3"
   ]
  },
  {
   "cell_type": "markdown",
   "id": "c839df09",
   "metadata": {},
   "source": [
    "2) Given a `n` x `m` matrix, write a function that returns a new `n` x `m` matrix, wich values in the even rows are multiplied by two and all the other values are equal to the input matrix."
   ]
  },
  {
   "cell_type": "code",
   "execution_count": 61,
   "id": "2cb83a1f",
   "metadata": {},
   "outputs": [],
   "source": [
    "m  = np.array( [\n",
    "                    [ 2, 5, 6, 3],\n",
    "                    [ 8, 4, 3, 5],\n",
    "                    [ 7, 1, 6, 9],\n",
    "                    [ 5, 2, 4, 1],\n",
    "                    [ 6, 3, 4, 3]\n",
    "               ])"
   ]
  },
  {
   "cell_type": "code",
   "execution_count": 79,
   "id": "b119896e",
   "metadata": {},
   "outputs": [],
   "source": [
    "# import numpy as np\n",
    "\n",
    "# def radalt(mat):\n",
    "#     nrows, ncol = mat.shape\n",
    "#     ret = np.zeros( (nrighe, ncol) )\n",
    "\n",
    "#     for i in range(nrows):\n",
    "#         for j in range(ncol):\n",
    "#             if i % 2 == 0:\n",
    "#                 ret[i,j] = mat[i,j] * 2\n",
    "#             else:\n",
    "#                 ret[i,j] = mat[i,j]\n",
    "#     return ret\n",
    "\n",
    "# def radalt(m):\n",
    "#     r = np.copy(m)\n",
    "#     r[::2,:] = r[::2,:] * 2\n",
    "#     return r"
   ]
  },
  {
   "cell_type": "code",
   "execution_count": 80,
   "id": "8409a3fb",
   "metadata": {},
   "outputs": [
    {
     "data": {
      "text/plain": [
       "array([[ 2,  5,  6,  3],\n",
       "       [16,  8,  6, 10],\n",
       "       [ 7,  1,  6,  9],\n",
       "       [10,  4,  8,  2],\n",
       "       [ 6,  3,  4,  3]])"
      ]
     },
     "execution_count": 80,
     "metadata": {},
     "output_type": "execute_result"
    }
   ],
   "source": [
    "radalt(m)"
   ]
  },
  {
   "cell_type": "markdown",
   "id": "10ab61c5",
   "metadata": {},
   "source": [
    "3) **The chessboard**: return matrix with `n` rows and `n` columns, where the cells alternate ones and zeros."
   ]
  },
  {
   "cell_type": "code",
   "execution_count": 62,
   "id": "8cef4b46",
   "metadata": {},
   "outputs": [],
   "source": [
    "def chessboard(n):\n",
    "    mat = np.zeros( (n,n)  )\n",
    "\n",
    "    for i in range(0,n, 2):\n",
    "        for j in range(0,n, 2):\n",
    "            mat[i, j] = 1\n",
    "\n",
    "    for i in range(1,n, 2):\n",
    "        for j in range(1,n, 2):\n",
    "            mat[i, j] = 1\n",
    "\n",
    "    return mat\n",
    "\n",
    "def chessboard_pro(n):\n",
    "    ret = np.zeros((n, n))\n",
    "    ret[::2, ::2] = 1\n",
    "    ret[1::2, 1::2] = 1\n",
    "    return ret"
   ]
  },
  {
   "cell_type": "markdown",
   "id": "76b18157",
   "metadata": {},
   "source": [
    "4) Given a matrix with dimensions `2n` x `2n`, divide the matrix into four parts (four quadrants) and return a matrix `2 * 2` containing the average of each quadrant."
   ]
  },
  {
   "cell_type": "code",
   "execution_count": 64,
   "id": "7a9aab15",
   "metadata": {},
   "outputs": [
    {
     "data": {
      "text/plain": [
       "(0, 2, 1, 1)"
      ]
     },
     "execution_count": 64,
     "metadata": {},
     "output_type": "execute_result"
    }
   ],
   "source": [
    "1, 2 , 5 , 7\n",
    "4, 1 , 8 , 0\n",
    "2, 0 , 5 , 1\n",
    "0, 2 , 1 , 1"
   ]
  },
  {
   "cell_type": "code",
   "execution_count": 65,
   "id": "f0217c8d",
   "metadata": {},
   "outputs": [],
   "source": [
    "import numpy as np\n",
    "\n",
    "# def quadrants(matrix):\n",
    "#     ret = np.zeros( (2,2) )\n",
    "\n",
    "#     dim = matrix.shape[0]\n",
    "#     n = dim // 2\n",
    "#     elements_per_q = n * n\n",
    "\n",
    "#     for i in range(n):\n",
    "#         for j in range(n):\n",
    "#             ret[0,0] += matrix[i,j]\n",
    "#     ret[0,0] /= elements_per_q\n",
    "\n",
    "#     for i in range(n,dim):\n",
    "#         for j in range(n):\n",
    "#             ret[1,0] += matrix[i,j]\n",
    "#     ret[1,0] /= elements_per_q\n",
    "\n",
    "#     for i in range(n,dim):\n",
    "#         for j in range(n,dim):\n",
    "#             ret[1,1] += matrix[i,j]\n",
    "#     ret[1,1] /= elements_per_q\n",
    "\n",
    "#     for i in range(n):\n",
    "#         for j in range(n,dim):\n",
    "#             ret[0,1] += matrix[i,j]\n",
    "#     ret[0,1] /= elements_per_q\n",
    "\n",
    "#     return ret\n",
    "\n",
    "def quadrants(matrix):\n",
    "    n = matrix.shape[0]\n",
    "    av = np.zeros((2,2))\n",
    "    i = n // 2\n",
    "    av[0,0] = np.average(matrix[:i,:i])\n",
    "    av[0,1] = np.average(matrix[:i,i:])\n",
    "    av[1,0] = np.average(matrix[i:,:i])\n",
    "    av[1,1] = np.average(matrix[i:,i:])\n",
    "    return av"
   ]
  },
  {
   "cell_type": "code",
   "execution_count": 66,
   "id": "5f742c07",
   "metadata": {},
   "outputs": [
    {
     "name": "stdout",
     "output_type": "stream",
     "text": [
      "[[2. 5.]\n",
      " [1. 2.]]\n"
     ]
    }
   ],
   "source": [
    "m2 = np.array( [ [1.0, 2.0 , 5.0 , 7.0],\n",
    "                 [4.0, 1.0 , 8.0 , 0.0],\n",
    "                 [2.0, 0.0 , 5.0 , 1.0],\n",
    "                 [0.0, 2.0 , 1.0 , 1.0] ])\n",
    "\n",
    "av = quadrants(m2)\n",
    "print(av)"
   ]
  }
 ],
 "metadata": {
  "interpreter": {
   "hash": "7d94e1c254685cd6bdb5e82ba5ec4d229f30ad4065d651cce1062e74cc9e5e15"
  },
  "kernelspec": {
   "display_name": "Python 3 (ipykernel)",
   "language": "python",
   "name": "python3"
  },
  "language_info": {
   "codemirror_mode": {
    "name": "ipython",
    "version": 3
   },
   "file_extension": ".py",
   "mimetype": "text/x-python",
   "name": "python",
   "nbconvert_exporter": "python",
   "pygments_lexer": "ipython3",
   "version": "3.9.6"
  }
 },
 "nbformat": 4,
 "nbformat_minor": 5
}
