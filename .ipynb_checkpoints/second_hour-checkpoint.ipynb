{
 "cells": [
  {
   "cell_type": "markdown",
   "id": "9484a037",
   "metadata": {},
   "source": [
    "##TOUPLE"
   ]
  },
  {
   "cell_type": "code",
   "execution_count": 3,
   "id": "4a3b6819",
   "metadata": {
    "scrolled": true
   },
   "outputs": [
    {
     "name": "stdout",
     "output_type": "stream",
     "text": [
      "(3, 4, 7, 8)\n"
     ]
    }
   ],
   "source": [
    "numbers = (3,4,7,8)\n",
    "print(numbers)"
   ]
  },
  {
   "cell_type": "markdown",
   "id": "77e7536f",
   "metadata": {},
   "source": [
    "touple are unmodifieble"
   ]
  },
  {
   "cell_type": "code",
   "execution_count": 5,
   "id": "1faa8657",
   "metadata": {},
   "outputs": [
    {
     "name": "stdout",
     "output_type": "stream",
     "text": [
      "(3,)\n"
     ]
    },
    {
     "data": {
      "text/plain": [
       "tuple"
      ]
     },
     "execution_count": 5,
     "metadata": {},
     "output_type": "execute_result"
    }
   ],
   "source": [
    "number = 3, \n",
    "print(number)\n",
    "type(number)"
   ]
  },
  {
   "cell_type": "code",
   "execution_count": 6,
   "id": "74763fdf",
   "metadata": {},
   "outputs": [
    {
     "data": {
      "text/plain": [
       "tuple"
      ]
     },
     "execution_count": 6,
     "metadata": {},
     "output_type": "execute_result"
    }
   ],
   "source": [
    "x = 1, 4, 5\n",
    "type(x)"
   ]
  },
  {
   "cell_type": "code",
   "execution_count": 8,
   "id": "1aa5c1ce",
   "metadata": {},
   "outputs": [],
   "source": [
    "my_first_dic = {\n",
    "    \"ke1\": \"ciao\",\n",
    "    1: \"ciao perim\",\n",
    "    (2,): ([1,2,3,4]),\n",
    "}"
   ]
  },
  {
   "cell_type": "code",
   "execution_count": 11,
   "id": "84d1c537",
   "metadata": {},
   "outputs": [
    {
     "data": {
      "text/plain": [
       "'ciao'"
      ]
     },
     "execution_count": 11,
     "metadata": {},
     "output_type": "execute_result"
    }
   ],
   "source": [
    "my_first_dic[\"ke1\"]"
   ]
  },
  {
   "cell_type": "code",
   "execution_count": 12,
   "id": "8b79b9fc",
   "metadata": {},
   "outputs": [
    {
     "data": {
      "text/plain": [
       "'ciao perim'"
      ]
     },
     "execution_count": 12,
     "metadata": {},
     "output_type": "execute_result"
    }
   ],
   "source": [
    "my_first_dic[1]"
   ]
  },
  {
   "cell_type": "code",
   "execution_count": 13,
   "id": "3f7b6e5d",
   "metadata": {},
   "outputs": [
    {
     "data": {
      "text/plain": [
       "[1, 2, 3, 4]"
      ]
     },
     "execution_count": 13,
     "metadata": {},
     "output_type": "execute_result"
    }
   ],
   "source": [
    "my_first_dic[(2,)]"
   ]
  },
  {
   "cell_type": "code",
   "execution_count": 14,
   "id": "2484dbdd",
   "metadata": {},
   "outputs": [
    {
     "data": {
      "text/plain": [
       "{'key1': [1, 2, 3], 'key2': 'value2'}"
      ]
     },
     "execution_count": 14,
     "metadata": {},
     "output_type": "execute_result"
    }
   ],
   "source": [
    "dict(([\"key1\", [1,2,3]], [\"key2\", \"value2\", ]))"
   ]
  },
  {
   "cell_type": "code",
   "execution_count": null,
   "id": "93340521",
   "metadata": {},
   "outputs": [],
   "source": [
    "dataset = {\n",
    "    \"temperature\": [34, 35.5, 36]\n",
    "    \"name_of_the_person\": [\"Paolo\", \"Michele\", \"Matteo\"]\n",
    "}"
   ]
  },
  {
   "cell_type": "code",
   "execution_count": 15,
   "id": "49ab45d0",
   "metadata": {},
   "outputs": [
    {
     "name": "stdout",
     "output_type": "stream",
     "text": [
      "{'x': 3, 'y': 5, 'z': 1}\n"
     ]
    }
   ],
   "source": [
    "import copy\n",
    "\n",
    "da = {\n",
    "    'x':3,\n",
    "    'y':5,\n",
    "    'z':1,\n",
    "}\n",
    "\n",
    "db = copy.deepcopy(da)\n",
    "print(da)"
   ]
  },
  {
   "cell_type": "code",
   "execution_count": 17,
   "id": "e14191c7",
   "metadata": {},
   "outputs": [],
   "source": [
    "len(da)\n",
    "del da[\"x\"]"
   ]
  },
  {
   "cell_type": "code",
   "execution_count": 18,
   "id": "f3103acf",
   "metadata": {},
   "outputs": [
    {
     "name": "stdout",
     "output_type": "stream",
     "text": [
      "{'y': 5, 'z': 1}\n"
     ]
    }
   ],
   "source": [
    "print(da)"
   ]
  },
  {
   "cell_type": "code",
   "execution_count": null,
   "id": "c44f263c",
   "metadata": {},
   "outputs": [],
   "source": [
    "d1 = {'a':3,\n",
    "      'b':8}\n",
    "d2 = {'a':d1['a'],\n",
    "    'b':d1['b']}\n"
   ]
  },
  {
   "cell_type": "code",
   "execution_count": 20,
   "id": "8c80cb75",
   "metadata": {},
   "outputs": [
    {
     "name": "stdout",
     "output_type": "stream",
     "text": [
      "We found...\n",
      "Many sweets!\n",
      "\n",
      "let's find other sweets!\n"
     ]
    }
   ],
   "source": [
    "sweets = 11\n",
    "if sweets > 10:\n",
    "    print('We found...')\n",
    "    print('Many sweets!')\n",
    "else: \n",
    "    print('Alas there are ...')\n",
    "    print('few sweets!')\n",
    "    \n",
    "print()\n",
    "print(\"let's find other sweets!\")"
   ]
  },
  {
   "cell_type": "code",
   "execution_count": null,
   "id": "d0d6fe5b",
   "metadata": {},
   "outputs": [],
   "source": [
    "x = 30\n",
    "if x > 8:\n",
    "    print('DOH')\n",
    "if x > 10:\n",
    "    printf('DUFF');\n",
    "    "
   ]
  },
  {
   "cell_type": "code",
   "execution_count": null,
   "id": "4271dc5d",
   "metadata": {},
   "outputs": [],
   "source": [
    "x,y = 5,9\n",
    "if x >= 0 and y > 0\n",
    "elif "
   ]
  },
  {
   "cell_type": "code",
   "execution_count": 21,
   "id": "3990685e",
   "metadata": {},
   "outputs": [],
   "source": [
    "sports = ['volleyball', 'tennis', 'soccer', 'swimming']"
   ]
  },
  {
   "cell_type": "code",
   "execution_count": 23,
   "id": "ac6838aa",
   "metadata": {},
   "outputs": [
    {
     "name": "stdout",
     "output_type": "stream",
     "text": [
      "Found an element!\n",
      "volleyball\n",
      "Found an element!\n",
      "tennis\n",
      "Found an element!\n",
      "soccer\n",
      "Found an element!\n",
      "swimming\n",
      "done\n"
     ]
    }
   ],
   "source": [
    "for element in sports:\n",
    "    print('Found an element!')\n",
    "    print(element)\n",
    "    \n",
    "print('done')"
   ]
  },
  {
   "cell_type": "code",
   "execution_count": 24,
   "id": "623579b4",
   "metadata": {},
   "outputs": [
    {
     "name": "stdout",
     "output_type": "stream",
     "text": [
      "volleyball\n",
      "tennis\n",
      "soccer\n",
      "swimming\n",
      "swimming\n"
     ]
    }
   ],
   "source": [
    "my_var = 'hello'\n",
    "\n",
    "for my_var in sports:\n",
    "    print(my_var)\n",
    "    \n",
    "print(my_var)"
   ]
  },
  {
   "cell_type": "code",
   "execution_count": 25,
   "id": "ec22503e",
   "metadata": {},
   "outputs": [
    {
     "name": "stdout",
     "output_type": "stream",
     "text": [
      "1 1\n",
      "1 2\n",
      "1 3\n",
      "2 1\n",
      "2 2\n",
      "2 3\n",
      "3 1\n",
      "3 2\n",
      "3 3\n"
     ]
    }
   ],
   "source": [
    "i = 34\n",
    "y = 'ciao' * 60\n",
    "\n",
    "x = [1, 2, 3]\n",
    "for i in x:\n",
    "    for j in x:\n",
    "        print(i, j)"
   ]
  },
  {
   "cell_type": "code",
   "execution_count": 26,
   "id": "06160434",
   "metadata": {},
   "outputs": [
    {
     "name": "stdout",
     "output_type": "stream",
     "text": [
      "0\n",
      "1\n",
      "2\n",
      "3\n",
      "4\n"
     ]
    }
   ],
   "source": [
    "for i in range(5):\n",
    "    print(i)"
   ]
  },
  {
   "cell_type": "code",
   "execution_count": 27,
   "id": "812741a1",
   "metadata": {},
   "outputs": [
    {
     "name": "stdout",
     "output_type": "stream",
     "text": [
      "4\n",
      "7\n",
      "10\n",
      "13\n",
      "16\n"
     ]
    }
   ],
   "source": [
    "for i in range(4,18,3):\n",
    "    print(i)"
   ]
  },
  {
   "cell_type": "code",
   "execution_count": 29,
   "id": "0bfb3c29",
   "metadata": {},
   "outputs": [
    {
     "name": "stdout",
     "output_type": "stream",
     "text": [
      "position 0\n",
      "volleyball\n",
      "position 1\n",
      "tennis\n",
      "position 2\n",
      "soccer\n",
      "position 3\n",
      "swimming\n"
     ]
    }
   ],
   "source": [
    "animals = [\"cat\", \"dog\", \"shark\", \"cow\"]\n",
    "for i in range(len(sports)):\n",
    "    print('position', i)\n",
    "    print(sports[i])"
   ]
  },
  {
   "cell_type": "code",
   "execution_count": 31,
   "id": "e8bd2771",
   "metadata": {},
   "outputs": [
    {
     "name": "stdout",
     "output_type": "stream",
     "text": [
      "['a', 'b', 'c', 'd']\n"
     ]
    }
   ],
   "source": [
    "lst = ['a', 'b', 'c', 'd']\n",
    "print(lst)"
   ]
  },
  {
   "cell_type": "code",
   "execution_count": 33,
   "id": "74767887",
   "metadata": {},
   "outputs": [
    {
     "name": "stdout",
     "output_type": "stream",
     "text": [
      "break, exits the loop!\n"
     ]
    }
   ],
   "source": [
    "for x in 'PARADE':\n",
    "    \n",
    "    if x == 'D':\n",
    "        print('break, exits the loop!')\n",
    "        break\n",
    "        print('Aftert he break')\n",
    "        \n",
    "        print(x)\n",
    "        \n",
    "        print('Print loop is over')"
   ]
  },
  {
   "cell_type": "code",
   "execution_count": 36,
   "id": "c8b2a752",
   "metadata": {},
   "outputs": [
    {
     "data": {
      "text/plain": [
       "[4, 10, 6, 8]"
      ]
     },
     "execution_count": 36,
     "metadata": {},
     "output_type": "execute_result"
    }
   ],
   "source": [
    "numbers = [2, 5, 3, 4]\n",
    "\n",
    "doubled = [x*2 for x in numbers]\n",
    "\n",
    "doubled"
   ]
  },
  {
   "cell_type": "code",
   "execution_count": 38,
   "id": "4174aaec",
   "metadata": {},
   "outputs": [
    {
     "data": {
      "text/plain": [
       "[9, 8, 7]"
      ]
     },
     "execution_count": 38,
     "metadata": {},
     "output_type": "execute_result"
    }
   ],
   "source": [
    "y = [7,4,8,2,9]\n",
    "[x for x in y[::-1] if x > 5]"
   ]
  },
  {
   "cell_type": "code",
   "execution_count": 40,
   "id": "2d41b6b4",
   "metadata": {},
   "outputs": [],
   "source": [
    "def f():\n",
    "    print(\"something\")"
   ]
  },
  {
   "cell_type": "code",
   "execution_count": 45,
   "id": "f0ee4d28",
   "metadata": {},
   "outputs": [
    {
     "name": "stdout",
     "output_type": "stream",
     "text": [
      "something\n"
     ]
    }
   ],
   "source": [
    "f()"
   ]
  },
  {
   "cell_type": "code",
   "execution_count": 46,
   "id": "62e41387",
   "metadata": {},
   "outputs": [
    {
     "name": "stdout",
     "output_type": "stream",
     "text": [
      "50.26548245743669\n"
     ]
    }
   ],
   "source": [
    "import math\n",
    "\n",
    "def circle_area(ray):\n",
    "    area = math.pi * ray **2\n",
    "    return area\n",
    "    print('ok')\n",
    "    \n",
    "result = circle_area(4)\n",
    "print(result)"
   ]
  }
 ],
 "metadata": {
  "kernelspec": {
   "display_name": "Python 3 (ipykernel)",
   "language": "python",
   "name": "python3"
  },
  "language_info": {
   "codemirror_mode": {
    "name": "ipython",
    "version": 3
   },
   "file_extension": ".py",
   "mimetype": "text/x-python",
   "name": "python",
   "nbconvert_exporter": "python",
   "pygments_lexer": "ipython3",
   "version": "3.10.5"
  }
 },
 "nbformat": 4,
 "nbformat_minor": 5
}
